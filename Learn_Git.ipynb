{
 "cells": [
  {
   "attachments": {},
   "cell_type": "markdown",
   "id": "1b89ece2",
   "metadata": {},
   "source": [
    "1 : برای استفاده از دستورات linux میتوان از حالت زیر استفاده کرد --> git bash"
   ]
  },
  {
   "attachments": {},
   "cell_type": "markdown",
   "id": "5e777b8f",
   "metadata": {},
   "source": [
    "2 : محیط گرافیکی --> git gui"
   ]
  },
  {
   "attachments": {},
   "cell_type": "markdown",
   "id": "ae1b3ddb",
   "metadata": {},
   "source": [
    "3 : Go to directory of project --> cd ..."
   ]
  },
  {
   "attachments": {},
   "cell_type": "markdown",
   "id": "cf16fab8",
   "metadata": {},
   "source": [
    "4 : ساخت git برای پروژه -- > git init"
   ]
  },
  {
   "attachments": {},
   "cell_type": "markdown",
   "id": "00a68081",
   "metadata": {},
   "source": [
    "5 : وضعیت git --> git status"
   ]
  },
  {
   "attachments": {},
   "cell_type": "markdown",
   "id": "673346b8",
   "metadata": {},
   "source": [
    "6 : اضافه کردن یک فایل به گیت [staging Area] --> git add {example file}"
   ]
  },
  {
   "attachments": {},
   "cell_type": "markdown",
   "id": "d54dc6fd",
   "metadata": {},
   "source": [
    "7 : برگرداندن فایل به حالت اولیه --> git rm --cached {example file}"
   ]
  },
  {
   "attachments": {},
   "cell_type": "markdown",
   "id": "c31e2460",
   "metadata": {},
   "source": [
    "8 : تمام فایل های یک پوشه را اضافه کردن به گیت --> git add ."
   ]
  },
  {
   "attachments": {},
   "cell_type": "markdown",
   "id": "9ea91468",
   "metadata": {},
   "source": [
    "9 : کامیت کردن در گیت --> git commit -m {any comment : \"initial project\"}"
   ]
  },
  {
   "attachments": {},
   "cell_type": "markdown",
   "id": "2d5f25db",
   "metadata": {},
   "source": [
    "10 : لاگ های کامیت --> git log"
   ]
  },
  {
   "attachments": {},
   "cell_type": "markdown",
   "id": "5cd1feb6",
   "metadata": {},
   "source": [
    "11 : مشخصات شخص کامیت کننده --> git config user.name , git config user.email"
   ]
  },
  {
   "attachments": {},
   "cell_type": "markdown",
   "id": "8d4060e8",
   "metadata": {},
   "source": [
    "12 : اضافه کردن فایل در کامیت قبلی --> git commit --amend"
   ]
  },
  {
   "attachments": {},
   "cell_type": "markdown",
   "id": "428aacda",
   "metadata": {},
   "source": [
    "13 : برای محدود کردن گیت از بعضی فایل ها --> gitignore.io AND create new file in the project"
   ]
  },
  {
   "attachments": {},
   "cell_type": "markdown",
   "id": "232f1060",
   "metadata": {},
   "source": [
    "14 : \n",
    "\n",
    "نمایش تمامی --> git branch\n",
    "ایجاد جدید --> git branch {name branch}\n",
    "سوییچ کردن بین --> git switch {name branch}\n",
    "ایجاد و سوییچ کردن --> git switch -c gubFix2\n",
    "ترکیب کردن --> git merge {merge branch}\n"
   ]
  }
 ],
 "metadata": {
  "kernelspec": {
   "display_name": "Python 3 (ipykernel)",
   "language": "python",
   "name": "python3"
  },
  "language_info": {
   "codemirror_mode": {
    "name": "ipython",
    "version": 3
   },
   "file_extension": ".py",
   "mimetype": "text/x-python",
   "name": "python",
   "nbconvert_exporter": "python",
   "pygments_lexer": "ipython3",
   "version": "3.11.3"
  }
 },
 "nbformat": 4,
 "nbformat_minor": 5
}
