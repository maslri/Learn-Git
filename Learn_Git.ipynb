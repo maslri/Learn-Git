{
 "cells": [
  {
   "attachments": {},
   "cell_type": "markdown",
   "id": "1b89ece2",
   "metadata": {},
   "source": [
    "1 : برای استفاده از دستورات linux میتوان از حالت زیر استفاده کرد --> git bash"
   ]
  },
  {
   "attachments": {},
   "cell_type": "markdown",
   "id": "5e777b8f",
   "metadata": {},
   "source": [
    "2 : محیط گرافیکی --> git gui"
   ]
  },
  {
   "attachments": {},
   "cell_type": "markdown",
   "id": "ae1b3ddb",
   "metadata": {},
   "source": [
    "3 : Go to directory of project --> cd ..."
   ]
  },
  {
   "attachments": {},
   "cell_type": "markdown",
   "id": "cf16fab8",
   "metadata": {},
   "source": [
    "4 : ساخت git برای پروژه -- > git init"
   ]
  },
  {
   "attachments": {},
   "cell_type": "markdown",
   "id": "00a68081",
   "metadata": {},
   "source": [
    "5 : وضعیت git --> git status"
   ]
  },
  {
   "attachments": {},
   "cell_type": "markdown",
   "id": "673346b8",
   "metadata": {},
   "source": [
    "6 : اضافه کردن یک فایل به گیت [staging Area] --> git add {example file}"
   ]
  },
  {
   "attachments": {},
   "cell_type": "markdown",
   "id": "d54dc6fd",
   "metadata": {},
   "source": [
    "7 : برگرداندن فایل به حالت اولیه --> git rm --cached {example file}"
   ]
  },
  {
   "attachments": {},
   "cell_type": "markdown",
   "id": "c31e2460",
   "metadata": {},
   "source": [
    "8 : تمام فایل های یک پوشه را اضافه کردن به گیت --> git add ."
   ]
  },
  {
   "attachments": {},
   "cell_type": "markdown",
   "id": "9ea91468",
   "metadata": {},
   "source": [
    "9 : کامیت کردن در گیت --> git commit -m {any comment : \"initial project\"}"
   ]
  },
  {
   "attachments": {},
   "cell_type": "markdown",
   "id": "a3ab77ae",
   "metadata": {},
   "source": [
    "9.1 : ایجاد و کامیت --> git commit -am \"<any cooment>\""
   ]
  },
  {
   "attachments": {},
   "cell_type": "markdown",
   "id": "2d5f25db",
   "metadata": {},
   "source": [
    "10 : لاگ های کامیت --> git log"
   ]
  },
  {
   "attachments": {},
   "cell_type": "markdown",
   "id": "5cd1feb6",
   "metadata": {},
   "source": [
    "11 : مشخصات شخص کامیت کننده --> git config user.name , git config user.email"
   ]
  },
  {
   "attachments": {},
   "cell_type": "markdown",
   "id": "8d4060e8",
   "metadata": {},
   "source": [
    "12 : اضافه کردن فایل در کامیت قبلی --> git commit --amend"
   ]
  },
  {
   "attachments": {},
   "cell_type": "markdown",
   "id": "428aacda",
   "metadata": {},
   "source": [
    "13 : برای محدود کردن گیت از بعضی فایل ها --> gitignore.io AND create new file in the project"
   ]
  },
  {
   "attachments": {},
   "cell_type": "markdown",
   "id": "232f1060",
   "metadata": {},
   "source": [
    "14 : branch\n",
    "\n",
    "نمایش تمامی -->               git branch\n",
    "ایجاد جدید -->                git branch {name branch}\n",
    "سوییچ کردن بین -->            git switch {name branch}\n",
    "ایجاد و سوییچ کردن -->        git switch -c gubFix2\n",
    "ترکیب کردن -->                 git merge {merge branch}\n",
    "تغییر اسم -->                  git branch -m {new name branch} Or git branch -M {new name branch}\n",
    "برای حفظ بعد از ترکیب -->     git branch -d\n",
    "برای حفظ بدون ترکیب -->       git branch -D"
   ]
  },
  {
   "attachments": {},
   "cell_type": "markdown",
   "id": "00c6e533",
   "metadata": {},
   "source": [
    "15 : clone\n",
    "git clone <Url>"
   ]
  },
  {
   "attachments": {},
   "cell_type": "markdown",
   "id": "5cf9b219",
   "metadata": {},
   "source": [
    "16 : remote\n",
    "ایجاد ریموت -->             git remote add <name = origin> <url-repo>\n",
    "نمایش ریموت برانچ ها -->    git branch -r"
   ]
  },
  {
   "attachments": {},
   "cell_type": "markdown",
   "id": "cae7791a",
   "metadata": {},
   "source": [
    "17 : push\n",
    "git push [-u] <namd remote = origin> <name branch = master> Or push"
   ]
  },
  {
   "attachments": {},
   "cell_type": "markdown",
   "id": "0eac1d83",
   "metadata": {},
   "source": [
    "18 : write README.md by tamplate --> https://markdown-it.github.io/ <markdown-it demo>"
   ]
  },
  {
   "attachments": {},
   "cell_type": "markdown",
   "id": "fad025fc",
   "metadata": {},
   "source": [
    "19 : git pages by name branch = gh-pages and just fix ui for information about the project unique URL"
   ]
  },
  {
   "attachments": {},
   "cell_type": "markdown",
   "id": "e9d802f0",
   "metadata": {},
   "source": [
    "20 : fetch\n",
    "git fetch <remote> {<branch> optional} Or git fetch\n",
    "تغیرر جای head برای fetch کردن اصولی --> git checkout <name branch = origin/master>\n",
    "تغییر جای head برای دیدن تغییرات --> git chechout <name of tag>"
   ]
  },
  {
   "attachments": {},
   "cell_type": "markdown",
   "id": "17395734",
   "metadata": {},
   "source": [
    "21 : pull\n",
    "git pull <remote> <branch> Or git pull"
   ]
  },
  {
   "attachments": {},
   "cell_type": "markdown",
   "id": "19403220",
   "metadata": {},
   "source": [
    "22 :    process of fork :\n",
    "        new clone form main \n",
    "        create new remote <upstream>\n",
    "        pull from main\n",
    "        push to main remote"
   ]
  },
  {
   "attachments": {},
   "cell_type": "markdown",
   "id": "df3d72b0",
   "metadata": {},
   "source": [
    "23 : Rebase\n",
    "        همان نرکیب کردن دو برنچ هست با این تفاوت که لاگ کامیت ها ترکیب شده و تمیزتر میشود و \n",
    "        همچنین هش کامیت ها عوض شده و انکار کامیت جدید ایجاد می شود. -- >git rebase main\n",
    "\n",
    "        تغییرات روی کامیت ها --> git rebase -i --root Or git rebase -i HEAD~7<number of back line commit> Or git rebase -i <hash of any commit>\n",
    "        "
   ]
  },
  {
   "attachments": {},
   "cell_type": "markdown",
   "id": "13a7595b",
   "metadata": {},
   "source": [
    "24 : tag\n",
    "        ایچاد تگ برای جایی که هد روی آن است. --> git tag <name of tag>\n",
    "        لیست تام تگ ها --> git tag\n",
    "        از نوع annotate --> git tag -a <name of tag>\n",
    "        دیدن اطلاعات هر تگ --> git show <name of tag>\n",
    "        اصافه کردن تگ هرجایی که بخوایم --> git tag [-a] <name of tag> <hash of commit>\n",
    "        برای تغییر تگ --> git tag -f <name of tag> <new hash of commit>\n",
    "        نمایش تگ های مورد نظر --> git tag -l <regex of version> [\"V2*\"]\n",
    "        برای دیدن تفاوت دو تگ --> git diff <name tag> <name tag>\n",
    "        برای حذف تگ --> git tag -d <name of tag>\n",
    "        اعمال تگ ها در gitHub --> git push <name of remote> <name of tag>\n",
    "        برای تمام تگ ها با یک دستور --> git push <name of remote> --tag Or git push --tag"
   ]
  },
  {
   "cell_type": "markdown",
   "id": "f54dbd06",
   "metadata": {},
   "source": [
    "25 : Diff\n",
    "        git diff\n",
    "        git diff --staged\n",
    "        git diff HEAD\n",
    "        git diff <coomit number> .. <commit number>\n",
    "        git diff <branch number> .. <branch number>"
   ]
  },
  {
   "attachments": {},
   "cell_type": "markdown",
   "id": "a9f75f93",
   "metadata": {},
   "source": [
    "26 : پریدن به کامیت خاص با هش کامیت --> git checkout <coomit hash>\n",
    "     تغییر برچ --> git switch <branch name>\n",
    "     پردیدن به کامیت خاص --> git chackout HEAD~<number of jump down in commits>\n",
    "     برگرداندن تمام تفییرات کامتی نشده فایل مورد نظر --> git checkout HEAD <name file>"
   ]
  },
  {
   "attachments": {},
   "cell_type": "markdown",
   "id": "0c0bc0cc",
   "metadata": {},
   "source": [
    "27 : Restore\n",
    "        git restore <name file>\n",
    "        git restore --staged <name file>\n",
    "        پاک کردن تغییرات و برگشت به کامیت مورد نظر --> git restore --source <hash commit> <name file>\n",
    "        git restore --source HEAD~<number of jump down in commits> <name file>"
   ]
  },
  {
   "attachments": {},
   "cell_type": "markdown",
   "id": "74c6144f",
   "metadata": {},
   "source": [
    "28 : Reset\n",
    "        خذف کامیت بدون پارک کردن تغییرات فعلی --> git reset <hash commit>\n",
    "        حذف تغییرات فعلی به همراه کامیت ها های بعد از هش مورد نظر --> git reset --hard <hash commit>\n"
   ]
  },
  {
   "attachments": {},
   "cell_type": "markdown",
   "id": "8f9e4a7d",
   "metadata": {},
   "source": [
    "29 : Revert\n",
    "        کامیت جدید با تغییرات هش مورد نظر قبل با تنظیم تغییرات بین --> git revert <hash commit>\n"
   ]
  },
  {
   "attachments": {},
   "cell_type": "markdown",
   "id": "07e72d4c",
   "metadata": {},
   "source": [
    "30 : Stash\n",
    "        "
   ]
  }
 ],
 "metadata": {
  "kernelspec": {
   "display_name": "Python 3 (ipykernel)",
   "language": "python",
   "name": "python3"
  }
 },
 "nbformat": 4,
 "nbformat_minor": 5
}
